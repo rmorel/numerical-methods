{
 "cells": [
  {
   "cell_type": "code",
   "execution_count": 1,
   "metadata": {},
   "outputs": [],
   "source": [
    "import numpy as np\n",
    "import matplotlib.pyplot as plt\n",
    "import seaborn as sns\n",
    "\n",
    "%matplotlib inline\n",
    "\n",
    "sns.set_style('ticks')"
   ]
  },
  {
   "cell_type": "code",
   "execution_count": 2,
   "metadata": {},
   "outputs": [
    {
     "data": {
      "text/plain": [
       "'0.38.0'"
      ]
     },
     "execution_count": 2,
     "metadata": {},
     "output_type": "execute_result"
    }
   ],
   "source": [
    "import numba\n",
    "numba.__version__"
   ]
  },
  {
   "cell_type": "markdown",
   "metadata": {},
   "source": [
    "# Equação de condução do calor 2D\n",
    "\n",
    "Considere a equação do calor bidimensional em regime transiente, dependente do tempo $t$ (s), sem fontes geradoras de calor\n",
    "\n",
    "$$\n",
    "\\rho c_p \\frac{\\partial T}{\\partial t} = \\frac{\\partial}{\\partial x}\n",
    "    \\left (k_x \\frac{\\partial T}{\\partial x} \\right ) +\n",
    "    \\frac{\\partial}{\\partial y}\n",
    "    \\left (k_y \\frac{\\partial T}{\\partial y} \\right )\n",
    "$$\n",
    "\n",
    "que relaciona a temperatura $T$ (K ou °C) do material com a sua capacidade térmica $c_p$ (J/(kg·K)), densidade $\\rho$ (kg/m³) e condutividade térmica $k_{x,y}$ (W/(m·K)) ao longo do espaço nas direções $x$ (m) e $y$ (m).\n",
    "\n",
    "Considerando que as propriedades térmicas e densidade do material não variam no espaço (condução isotrópica de calor, ou seja, $k_x = k_y = k$) essa equação pode ser simplificada como\n",
    "\n",
    "$$\n",
    "\\frac{\\partial T}{\\partial t} = \\kappa \\left (\n",
    "    \\frac{\\partial^2 T}{\\partial x^2}  +\\frac{\\partial^2 T}{\\partial y^2}\n",
    "    \\right )\n",
    "$$\n",
    "\n",
    "com a difusividade térmica (m²/s) dada por\n",
    "\n",
    "$$\n",
    "\\kappa = \\frac{k}{\\rho c_p}.\n",
    "$$\n",
    "\n",
    "## Discretização por diferenças finitas explicitas\n",
    "\n",
    "Discretizando o espaço em intervalos $\\Delta x$, $\\Delta y$ o tempo em intervalos $\\Delta t$, obtem-se a equação do regime transiente do calor por diferenças finitas\n",
    "\n",
    "$$\n",
    "\\frac{T_{i,j}^{n+1} - T_{i,j}^{n}}{\\Delta t} = \\kappa\n",
    "    \\left (\n",
    "        \\frac{T_{i,j+1}^{n} - 2 T_{i,j}^{n} + T_{i,j-1}^{n}}{(\\Delta x)^2} +\n",
    "        \\frac{T_{i+1,j}^{n} - 2 T_{i,j}^{n} + T_{i-1,j}^{n}}{(\\Delta y)^2}\n",
    "    \\right )\n",
    "$$\n",
    "\n",
    "$$\n",
    "T_{i,j}^{n+1} =  T_{i,j}^{n} + \\lambda_x ( T_{i,j+1}^{n} - 2 T_{i,j}^{n} + T_{i,j-1}^{n} ) +\n",
    "        \\lambda_y ( T_{i+1,j}^{n} - 2 T_{i,j}^{n} + T_{i-1,j}^{n} )\n",
    "$$\n",
    "\n",
    "que relaciona temperatura $T_{i,j}^n$ no ponto $i,j$ e no tempo $n$ com as constantes\n",
    "\n",
    "$$\n",
    "\\lambda_x = \\frac{\\kappa \\Delta t}{(\\Delta x)^2}\n",
    "$$\n",
    "\n",
    "e\n",
    "\n",
    "$$\n",
    "\\lambda_y = \\frac{\\kappa \\Delta t}{(\\Delta y)^2}.\n",
    "$$\n",
    "\n",
    "Nesse caso, o esquema explicito somente é estável se\n",
    "\n",
    "$$\n",
    "\\max(\\lambda_x, \\lambda_y) \\leq \\frac{1}{2}\n",
    "$$"
   ]
  },
  {
   "cell_type": "markdown",
   "metadata": {},
   "source": [
    "## Parâmetros físicos para o problema\n",
    "\n",
    "Nesse caso, vamos considerar uma chapa de aluminio parametrizada e discretizada conforme abaixo. Também estamos considerando temperaturas constantes (Dirichlet) em cada um dos lados do domínio (retângulo em coordenadas cartesianas). "
   ]
  },
  {
   "cell_type": "code",
   "execution_count": 3,
   "metadata": {},
   "outputs": [],
   "source": [
    "dx = 0.01 # m\n",
    "dy = 0.01 # m\n",
    "dt = 0.1 # s\n",
    "\n",
    "nx = 101 # número de intervalos no eixo x\n",
    "ny = 101 # número de intervalos no eixo y\n",
    "nt = 101 # número de intervalos de tempo\n",
    "\n",
    "T_l = 100 #°C - Temperatura do lado esquerdo da chapa\n",
    "T_r = 50 #°C - Temperatura do lado esquerdo da chapa\n",
    "T_u = 25 #°C - Temperatura de cima da chapa\n",
    "T_d = 75 #°C - Temperatura de baixo da chapa\n",
    "\n",
    "\n",
    "K = 9.7 * 1e-5 # Difusividade térmica do aluminio (m²/s)\n",
    "               # fonte: www.electronics-cooling.com/2007/08/thermal-diffusivity/"
   ]
  },
  {
   "cell_type": "code",
   "execution_count": 4,
   "metadata": {},
   "outputs": [],
   "source": [
    "lbd_x = K * dt/dx**2 # Constante lambda x\n",
    "lbd_y = K * dt/dy**2 # Constante lambda y\n",
    "\n",
    "assert lbd_x < 0.5 # Condição de estabilidade eixo x\n",
    "assert lbd_y < 0.5 # Condição de estabilidade eixo y"
   ]
  },
  {
   "cell_type": "markdown",
   "metadata": {},
   "source": [
    "## Parâmetros para mostrar os resultados"
   ]
  },
  {
   "cell_type": "code",
   "execution_count": 5,
   "metadata": {},
   "outputs": [],
   "source": [
    "x = np.arange(nx) * dx # m\n",
    "y = np.arange(ny) * dy # m\n",
    "extent = [x.min(), x.max(), y.min(), y.max()]\n",
    "\n",
    "snap_interval = 10"
   ]
  },
  {
   "cell_type": "code",
   "execution_count": 6,
   "metadata": {},
   "outputs": [],
   "source": [
    "# Função para plotar os snapshots\n",
    "def plot_snapshots(snaps, title):\n",
    "    vmin = snaps.min()\n",
    "    vmax = snaps.max()\n",
    "    \n",
    "    fig, axes = plt.subplots(figsize=(12,6), nrows=1, ncols=5)\n",
    "    plt.suptitle(title, y=0.7)\n",
    "\n",
    "    for i in np.arange(5):\n",
    "        m = np.int(snaps.shape[2]/5) * i\n",
    "        im = axes[i].imshow(snaps[:,:,m].T, interpolation='nearest',\n",
    "                        vmin=vmin, vmax=vmax, extent=extent, origin='upper left')\n",
    "        axes[i].set_title(u't = %.3f ms' % (m*dt))\n",
    "        axes[i].set_xlabel('x (m)')\n",
    "\n",
    "\n",
    "    for ax in plt.gcf().axes:\n",
    "        try:\n",
    "            ax.label_outer()\n",
    "        except:\n",
    "            pass\n",
    "\n",
    "    fig.colorbar(im, ax=axes.ravel().tolist(), shrink=0.3, orientation='horizontal',\n",
    "                label=u'Temperatura (C)')"
   ]
  },
  {
   "cell_type": "markdown",
   "metadata": {},
   "source": [
    "## Implementação inocente\n",
    "\n",
    "Essa implementação usa um laço simples para implementar a equação\n",
    "\n",
    "$$\n",
    "T_{i,j}^{n+1} =  T_{i,j}^{n} + \\lambda_x ( T_{i,j+1}^{n} - 2 T_{i,j}^{n} + T_{i,j-1}^{n} ) +\n",
    "        \\lambda_y ( T_{i+1,j}^{n} - 2 T_{i,j}^{n} + T_{i-1,j}^{n} )\n",
    "$$\n",
    "\n",
    "veja que isso não é o recomendado em Python."
   ]
  },
  {
   "cell_type": "code",
   "execution_count": 7,
   "metadata": {},
   "outputs": [
    {
     "data": {
      "image/png": "[encoded data removed]",
      "text/plain": [
       "<Figure size 864x432 with 6 Axes>"
      ]
     },
     "metadata": {},
     "output_type": "display_data"
    }
   ],
   "source": [
    "# Inicializando a temperatura da chapa\n",
    "T = np.zeros((nx, ny))\n",
    "T[:,0] = T_l\n",
    "T[:,-1] = T_r\n",
    "T[0,:] = T_u\n",
    "T[-1,:] = T_d\n",
    "\n",
    "snaps = np.zeros((nx, ny, (nt // snap_interval) + 1))\n",
    "\n",
    "# Loop implementando as diferenças finitas\n",
    "for n in np.arange(nt):\n",
    "    if n % snap_interval == 0:\n",
    "        snaps[:,:,(n // snap_interval)] = T[:,:]\n",
    "        \n",
    "    for i in np.arange(1, nx -1):\n",
    "        for j in np.arange(1, ny -1):\n",
    "            T[i,j] += lbd_x * (T[i,j+1] - 2*T[i,j] + T[i,j-1]) +\\\n",
    "                      lbd_y * (T[i+1,j] - 2*T[i,j] + T[i-1,j])\n",
    "\n",
    "plot_snapshots(snaps, u'Implementação usando Python puro')"
   ]
  },
  {
   "cell_type": "markdown",
   "metadata": {},
   "source": [
    "## Otimizando a implementação inocente usando Numba\n",
    "\n",
    "É possivel compilar em tempo de execução o código em Python para Numba. Essa opção é bem poderosa"
   ]
  },
  {
   "cell_type": "code",
   "execution_count": 8,
   "metadata": {},
   "outputs": [],
   "source": [
    "@numba.jit\n",
    "def heat_equation(T, snap_interval, nx, ny, nt, lbd_x, lbd_y):\n",
    "    # Loop implementando as diferenças finitas\n",
    "    for n in np.arange(nt):\n",
    "        for i in np.arange(1, nx -1):\n",
    "            for j in np.arange(1, ny -1):\n",
    "                T[i,j] += lbd_x * (T[i,j+1] - 2*T[i,j] + T[i,j-1]) +\\\n",
    "                          lbd_y * (T[i+1,j] - 2*T[i,j] + T[i-1,j])"
   ]
  },
  {
   "cell_type": "code",
   "execution_count": 9,
   "metadata": {},
   "outputs": [
    {
     "data": {
      "image/png": "[encoded data removed]",
      "text/plain": [
       "<Figure size 864x432 with 6 Axes>"
      ]
     },
     "metadata": {},
     "output_type": "display_data"
    }
   ],
   "source": [
    "# Inicializando a temperatura da chapa\n",
    "T = np.zeros((nx, ny))\n",
    "T[:,0] = T_l\n",
    "T[:,-1] = T_r\n",
    "T[0,:] = T_u\n",
    "T[-1,:] = T_d\n",
    "\n",
    "snaps = np.zeros((nx, ny, (nt // snap_interval) + 1))\n",
    "\n",
    "for n in np.arange(0, nt, snap_interval):\n",
    "    if n % snap_interval == 0:\n",
    "        snaps[:,:,(n // snap_interval)] = T[:,:]\n",
    "    heat_equation(T, snap_interval, nx, ny, snap_interval, lbd_x, lbd_y)\n",
    "\n",
    "plot_snapshots(snaps, u'Implementação usando Numba')"
   ]
  },
  {
   "cell_type": "markdown",
   "metadata": {},
   "source": [
    "## Implementação menos inocente usando convolução\n",
    "\n",
    "Essa implementação usa convolução bidimensional ao invés do laço simples,\n",
    "desse modo a equação de condução do calor pode ser reescrita como\n",
    "\n",
    "$$\n",
    "T^{n+1} =  T^{n} + \\lambda_x T^{n} *\n",
    "    \\begin{bmatrix}\n",
    "1 \\\\\n",
    "-2 \\\\\n",
    "1\n",
    "         \\end{bmatrix} +\n",
    "           \\lambda_y T^{n} * [1,-2,1]\n",
    "$$\n",
    "\n",
    "esse método é bem mais eficiente que o laço simples, especialmente para\n",
    "muitas amostras."
   ]
  },
  {
   "cell_type": "code",
   "execution_count": 10,
   "metadata": {},
   "outputs": [],
   "source": [
    "from scipy.ndimage.filters import convolve1d"
   ]
  },
  {
   "cell_type": "code",
   "execution_count": 11,
   "metadata": {},
   "outputs": [
    {
     "data": {
      "image/png": "[encoded data removed]",
      "text/plain": [
       "<Figure size 864x432 with 6 Axes>"
      ]
     },
     "metadata": {},
     "output_type": "display_data"
    }
   ],
   "source": [
    "# Inicializando a temperatura da chapa\n",
    "T = np.zeros((nx, ny))\n",
    "T[:,0] = T_l\n",
    "T[:,-1] = T_r\n",
    "T[0,:] = T_u\n",
    "T[-1,:] = T_d\n",
    "\n",
    "snaps = np.zeros((nx, ny, (nt // snap_interval) + 1))\n",
    "\n",
    "kernel_x = np.array([1,-2,1]) * lbd_x # Kernel no eixo x\n",
    "kernel_y = np.array([1,-2,1]) * lbd_y # Kernel no eixo x\n",
    "\n",
    "# Loop implementando as diferenças finitas\n",
    "for n in np.arange(nt):\n",
    "    if n % snap_interval == 0:\n",
    "        snaps[:,:,(n // snap_interval)] = T[:,:]\n",
    "    \n",
    "    T[1:-1,1:-1] += convolve1d(T,kernel_x, axis=0, mode='constant')[1:-1,1:-1] +\\\n",
    "                    convolve1d(T,kernel_y, axis=1, mode='constant')[1:-1,1:-1]\n",
    "\n",
    "plot_snapshots(snaps, u'Implementação usando Convolução')"
   ]
  },
  {
   "cell_type": "markdown",
   "metadata": {},
   "source": [
    "## Comparando a velocidade das implementações\n",
    "\n",
    "### Implementação usando Python puro"
   ]
  },
  {
   "cell_type": "code",
   "execution_count": 12,
   "metadata": {},
   "outputs": [],
   "source": [
    "res = {} # Velocidade das implementações"
   ]
  },
  {
   "cell_type": "code",
   "execution_count": 13,
   "metadata": {},
   "outputs": [
    {
     "name": "stdout",
     "output_type": "stream",
     "text": [
      "3.27 s ± 38.3 ms per loop (mean ± std. dev. of 7 runs, 1 loop each)\n"
     ]
    },
    {
     "data": {
      "text/plain": [
       "<TimeitResult : 3.27 s ± 38.3 ms per loop (mean ± std. dev. of 7 runs, 1 loop each)>"
      ]
     },
     "execution_count": 13,
     "metadata": {},
     "output_type": "execute_result"
    }
   ],
   "source": [
    "%%timeit -o\n",
    "\n",
    "# Inicializando a temperatura da chapa\n",
    "T = np.zeros((nx, ny))\n",
    "T[:,0] = T_l\n",
    "T[:,-1] = T_r\n",
    "T[0,:] = T_u\n",
    "T[-1,:] = T_d\n",
    "\n",
    "# Loop implementando as diferenças finitas\n",
    "for n in np.arange(nt):\n",
    "    for i in np.arange(1, nx -1):\n",
    "        for j in np.arange(1, ny -1):\n",
    "            T[i,j] += lbd_x * (T[i,j+1] - 2*T[i,j] + T[i,j-1]) +\\\n",
    "                      lbd_y * (T[i+1,j] - 2*T[i,j] + T[i-1,j])"
   ]
  },
  {
   "cell_type": "code",
   "execution_count": 14,
   "metadata": {},
   "outputs": [],
   "source": [
    "res['Python Puro'] = _"
   ]
  },
  {
   "cell_type": "markdown",
   "metadata": {},
   "source": [
    "### Implementação usando Numba"
   ]
  },
  {
   "cell_type": "code",
   "execution_count": 15,
   "metadata": {},
   "outputs": [
    {
     "name": "stdout",
     "output_type": "stream",
     "text": [
      "7.36 ms ± 83.9 µs per loop (mean ± std. dev. of 7 runs, 100 loops each)\n"
     ]
    },
    {
     "data": {
      "text/plain": [
       "<TimeitResult : 7.36 ms ± 83.9 µs per loop (mean ± std. dev. of 7 runs, 100 loops each)>"
      ]
     },
     "execution_count": 15,
     "metadata": {},
     "output_type": "execute_result"
    }
   ],
   "source": [
    "%%timeit -o\n",
    "\n",
    "# Inicializando a temperatura da chapa\n",
    "T = np.zeros((nx, ny))\n",
    "T[:,0] = T_l\n",
    "T[:,-1] = T_r\n",
    "T[0,:] = T_u\n",
    "T[-1,:] = T_d\n",
    "\n",
    "heat_equation(T, snap_interval, nx, ny, nt, lbd_x, lbd_y)"
   ]
  },
  {
   "cell_type": "code",
   "execution_count": 16,
   "metadata": {},
   "outputs": [],
   "source": [
    "res['Numba'] = _"
   ]
  },
  {
   "cell_type": "markdown",
   "metadata": {},
   "source": [
    "### Implementação usando convolução"
   ]
  },
  {
   "cell_type": "code",
   "execution_count": 17,
   "metadata": {},
   "outputs": [
    {
     "name": "stdout",
     "output_type": "stream",
     "text": [
      "15.5 ms ± 282 µs per loop (mean ± std. dev. of 7 runs, 100 loops each)\n"
     ]
    },
    {
     "data": {
      "text/plain": [
       "<TimeitResult : 15.5 ms ± 282 µs per loop (mean ± std. dev. of 7 runs, 100 loops each)>"
      ]
     },
     "execution_count": 17,
     "metadata": {},
     "output_type": "execute_result"
    }
   ],
   "source": [
    "%%timeit -o\n",
    "\n",
    "# Inicializando a temperatura da chapa\n",
    "T = np.zeros((nx, ny))\n",
    "T[:,0] = T_l\n",
    "T[:,-1] = T_r\n",
    "T[0,:] = T_u\n",
    "T[-1,:] = T_d\n",
    "\n",
    "kernel_x = np.array([1,-2,1]) * lbd_x # Kernel no eixo x\n",
    "kernel_y = np.array([1,-2,1]) * lbd_y # Kernel no eixo x\n",
    "\n",
    "# Loop implementando as diferenças finitas\n",
    "for n in np.arange(nt):\n",
    "    T[1:-1,1:-1] += convolve1d(T,kernel_x, axis=0, mode='constant')[1:-1,1:-1] +\\\n",
    "                    convolve1d(T,kernel_y, axis=1, mode='constant')[1:-1,1:-1]"
   ]
  },
  {
   "cell_type": "code",
   "execution_count": 18,
   "metadata": {},
   "outputs": [],
   "source": [
    "res['ndimage.convolve1d'] = _"
   ]
  },
  {
   "cell_type": "markdown",
   "metadata": {},
   "source": [
    "### Comparação entre os tempos"
   ]
  },
  {
   "cell_type": "code",
   "execution_count": 19,
   "metadata": {},
   "outputs": [],
   "source": [
    "for key in res:\n",
    "    res[key] = np.average(res[key].timings)"
   ]
  },
  {
   "cell_type": "code",
   "execution_count": 20,
   "metadata": {},
   "outputs": [
    {
     "data": {
      "image/png": "[encoded data removed]",
      "text/plain": [
       "<Figure size 432x288 with 1 Axes>"
      ]
     },
     "metadata": {},
     "output_type": "display_data"
    }
   ],
   "source": [
    "plt.barh(range(len(res)), list(res.values()), tick_label=res.keys())\n",
    "plt.yticks([])\n",
    "\n",
    "for i,key in enumerate(res):\n",
    "    plt.text(res[key] * 1.1, i, key)\n",
    "\n",
    "plt.xscale('log')\n",
    "plt.xlabel('tempo de execução (s)')\n",
    "plt.title(u'Comparação entre os tempos de execução das diferentes implementações')\n",
    "sns.despine(offset=5);"
   ]
  }
 ],
 "metadata": {
  "kernelspec": {
   "display_name": "Python 3",
   "language": "python",
   "name": "python3"
  },
  "language_info": {
   "codemirror_mode": {
    "name": "ipython",
    "version": 3
   },
   "file_extension": ".py",
   "mimetype": "text/x-python",
   "name": "python",
   "nbconvert_exporter": "python",
   "pygments_lexer": "ipython3",
   "version": "3.6.5"
  }
 },
 "nbformat": 4,
 "nbformat_minor": 2
}
